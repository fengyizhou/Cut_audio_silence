{
 "cells": [
  {
   "cell_type": "code",
   "execution_count": 17,
   "metadata": {},
   "outputs": [],
   "source": [
    "import librosa\n",
    "import os"
   ]
  },
  {
   "cell_type": "code",
   "execution_count": 18,
   "metadata": {},
   "outputs": [],
   "source": [
    "#定义一个Cut_audio函数，输入：输入文件的绝对路径、输出文件的绝对路径。 输出：输出一个尾部silence区域被剪切掉的音频\n",
    "def cut_audio(input_file, output_file):\n",
    "    y, sr = librosa.load(input_file, sr = 32000)\n",
    "    for i,x in enumerate(reversed(y)):\n",
    "        if x == 0:\n",
    "            pass\n",
    "        else:\n",
    "            break\n",
    "    data_ = y[:-i]\n",
    "    print(data_)\n",
    "    librosa.output.write_wav(output_file, data_, sr = 32000)"
   ]
  },
  {
   "cell_type": "code",
   "execution_count": 19,
   "metadata": {},
   "outputs": [
    {
     "name": "stdout",
     "output_type": "stream",
     "text": [
      "[ 0.0000000e+00  0.0000000e+00  0.0000000e+00 ... -7.1372478e-12\n",
      "  2.9174903e-12 -1.8398367e-12]\n",
      "[ 0.0000000e+00  0.0000000e+00  0.0000000e+00 ... -1.8595067e-12\n",
      "  1.3072981e-12  1.3486833e-13]\n",
      "[ 0.0000000e+00  0.0000000e+00  0.0000000e+00 ... -4.2798997e-13\n",
      "  4.1936059e-13  6.9173562e-13]\n",
      "[ 0.0000000e+00  0.0000000e+00  0.0000000e+00 ... -2.3112783e-12\n",
      "  1.0093168e-12 -1.3485137e-12]\n",
      "[ 0.0000000e+00  0.0000000e+00  0.0000000e+00 ... -6.6700790e-12\n",
      "  2.5692636e-12 -1.6944746e-12]\n",
      "[ 0.0000000e+00  0.0000000e+00  0.0000000e+00 ... -6.2759997e-12\n",
      "  2.7413842e-12 -1.8846767e-12]\n",
      "[ 0.0000000e+00  0.0000000e+00  0.0000000e+00 ...  7.3978177e-13\n",
      " -1.6019982e-13  9.8720251e-13]\n",
      "[ 0.000000e+00  0.000000e+00  0.000000e+00 ... -6.030609e-13  8.839403e-14\n",
      " -9.527749e-13]\n",
      "[ 0.0000000e+00  0.0000000e+00  0.0000000e+00 ...  1.5392797e-12\n",
      " -1.1177127e-12 -2.6908562e-13]\n",
      "[ 5.00274109e-06 -1.47667015e-05 -3.03362503e-05 ...  8.90163377e-12\n",
      " -5.30535772e-12  1.86101937e-12]\n",
      "[-9.1204229e-06  2.2725171e-05 -1.5475376e-05 ... -1.3930702e-12\n",
      "  1.4053332e-12 -1.4928111e-12]\n",
      "[-2.0336767e-04 -2.2353261e-04 -2.2804840e-04 ...  3.0176256e-12\n",
      " -1.4061311e-12  1.4930851e-12]\n",
      "[-2.8681019e-05 -1.8945519e-05 -1.3893443e-05 ... -3.2887998e-12\n",
      "  2.2840708e-14  8.9827706e-13]\n",
      "[-8.1471362e-06  2.1923503e-05 -1.4713811e-05 ... -1.3029669e-11\n",
      "  5.6578375e-12 -1.7778589e-12]\n",
      "[-3.2613709e-05 -4.1672133e-06 -1.4828526e-06 ...  7.2795702e-12\n",
      " -4.4606883e-12  1.8611252e-12]\n",
      "[-1.8370789e-05  3.3890457e-05  9.3882290e-06 ... -6.4753164e-12\n",
      "  2.7511121e-12 -1.2917328e-12]\n"
     ]
    }
   ],
   "source": [
    "#定义输入输出文件夹，批处理文件\n",
    "output_path = r\"C:/Users/58450/My Code/Cut_audio_silence/Cut_audio_silence-master/音频末尾静音剪切/修正完成_已剪切\"\n",
    "\n",
    "input_path = \"E:/重点工作/机器唱歌_test/机器唱歌test_单声道_修正后\"\n",
    "for file in os.listdir(input_path):\n",
    "    input_file = os.path.join(input_path, file)\n",
    "    output_file = os.path.join(output_path, file)\n",
    "    cut_audio(input_file, output_file)"
   ]
  }
 ],
 "metadata": {
  "kernelspec": {
   "display_name": "Python 3",
   "language": "python",
   "name": "python3"
  },
  "language_info": {
   "codemirror_mode": {
    "name": "ipython",
    "version": 3
   },
   "file_extension": ".py",
   "mimetype": "text/x-python",
   "name": "python",
   "nbconvert_exporter": "python",
   "pygments_lexer": "ipython3",
   "version": "3.7.1"
  }
 },
 "nbformat": 4,
 "nbformat_minor": 2
}
